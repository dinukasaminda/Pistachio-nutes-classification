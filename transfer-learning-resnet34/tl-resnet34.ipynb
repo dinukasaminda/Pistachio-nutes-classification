{
 "cells": [
  {
   "cell_type": "markdown",
   "metadata": {},
   "source": [
    "## Classification of Pistachio Nuts using Resnet34 transfer learning"
   ]
  },
  {
   "cell_type": "markdown",
   "metadata": {},
   "source": [
    "### What is transfer learning and fine tune?\n",
    "\n",
    "##### Transfer Learning:\n",
    "\n",
    "Use pre-trained models on a new task.\n",
    "Frozen base model layers (no weight updates).\n",
    "Suitable when new dataset is small or similar to the original.\n",
    "Focuses on training the custom classifier (top layers).\n",
    "\n",
    "##### Fine-Tuning:\n",
    "Unfreeze some or all pre-trained model layers.\n",
    "Retrain the model with a lower learning rate.\n",
    "Suitable when new dataset is large or significantly different.\n",
    "Helps the model adapt better to the specific domain/task by updating earlier layers too.\n",
    "\n",
    "##### What we will do in this notebook?\n",
    "We have small dataset and we will use transfer learning to classify the Pistachio Nuts. We will use Resnet34 model for this task."
   ]
  }
 ],
 "metadata": {
  "language_info": {
   "name": "python"
  }
 },
 "nbformat": 4,
 "nbformat_minor": 2
}
